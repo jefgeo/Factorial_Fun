{
 "cells": [
  {
   "cell_type": "code",
   "execution_count": 1,
   "metadata": {
    "collapsed": true
   },
   "outputs": [
    {
     "name": "stdout",
     "output_type": "stream",
     "text": [
      "406 ns ± 7.82 ns per loop (mean ± std. dev. of 7 runs, 1,000,000 loops each)\n",
      "120\n",
      "658 ns ± 6.95 ns per loop (mean ± std. dev. of 7 runs, 1,000,000 loops each)\n",
      "120\n"
     ]
    }
   ],
   "source": [
    "def factorial(value):\n",
    "    value = int(value)              # non-integer values not allowed.\n",
    "    if value >= 1:\n",
    "        temp = 1\n",
    "        for i in range(1, value+1):\n",
    "            temp = temp * i\n",
    "        return temp\n",
    "    else:\n",
    "        return None\n",
    "\n",
    "def factorial_recursive(value):\n",
    "    value = int(value)              # non-integer values not allowed.\n",
    "    if value > 1:                   # recursively go from value to 1\n",
    "        return value * factorial_recursive(value - 1)\n",
    "    elif value == 1:                # Last value must be 1 if valid\n",
    "        return value\n",
    "    else:                           # return None for invalid\n",
    "        return None\n",
    "\n",
    "# run recursive and non-recursive side-by-side (print value to confirm it's working right)\n",
    "number = 5\n",
    "%timeit factorial(number)\n",
    "print(factorial(number))\n",
    "%timeit factorial_recursive(number)\n",
    "print(factorial_recursive(number))"
   ]
  },
  {
   "cell_type": "code",
   "execution_count": null,
   "outputs": [],
   "source": [],
   "metadata": {
    "collapsed": false,
    "pycharm": {
     "name": "#%%\n"
    }
   }
  }
 ],
 "metadata": {
  "kernelspec": {
   "display_name": "Python 3",
   "language": "python",
   "name": "python3"
  },
  "language_info": {
   "codemirror_mode": {
    "name": "ipython",
    "version": 2
   },
   "file_extension": ".py",
   "mimetype": "text/x-python",
   "name": "python",
   "nbconvert_exporter": "python",
   "pygments_lexer": "ipython2",
   "version": "2.7.6"
  }
 },
 "nbformat": 4,
 "nbformat_minor": 0
}